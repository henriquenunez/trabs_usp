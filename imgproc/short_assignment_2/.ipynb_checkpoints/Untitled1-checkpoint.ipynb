{
 "cells": [
  {
   "cell_type": "code",
   "execution_count": 6,
   "metadata": {},
   "outputs": [],
   "source": [
    "\"\"\"\n",
    "Henrique Hiram Libutti Núñez - 11275300\n",
    "Image restoration\n",
    "\"\"\"\n",
    "\n",
    "import imageio\n",
    "import numpy as np\n",
    "from numpy.fft import *\n",
    "import matplotlib.pyplot as plt"
   ]
  },
  {
   "cell_type": "code",
   "execution_count": 7,
   "metadata": {},
   "outputs": [],
   "source": [
    "#Gaussian filter\n",
    "def gaussian_filter(k=3, sigma=1.0):\n",
    "    arx = np.arange((-k // 2) + 1.0, (k // 2) + 1.0)\n",
    "    x, y = np.meshgrid(arx, arx)\n",
    "    filt = np.exp( -(1/2)*(np.square(x) + np.square(y))/np.square(sigma) )\n",
    "    return filt/np.sum(filt)\n",
    "\n",
    "\n",
    "def denoiser(image, conv_filter):\n",
    "    #Compute FT of image.\n",
    "    G = fft2(image)\n",
    "\n",
    "    # Noise padding\n",
    "    a = int(image.shape[0]//2 - conv_filter.shape[0]//2)\n",
    "    padded_filter = np.pad(conv_filter, (a,a-1), 'constant', constant_values=(0))\n",
    "\n",
    "    #Compute FT of filter.\n",
    "    H = fftn(padded_filter)\n",
    "    denoised = np.multiply(G, H)\n",
    "    return ifft2(denoised).real\n",
    "\n",
    "\n",
    "def _normalizer(val, max_val, min_val, new_max):\n",
    "    return new_max*(val-min_val)/(max_val-min_val)\n",
    "\n",
    "\n",
    "def normalizer(image, max_val):\n",
    "    img_max = image.max()\n",
    "    img_min = image.min()\n",
    "    vector_normalizer = np.vectorize(_normalizer)\n",
    "    norm_image = vector_normalizer(image, img_max, img_min, max_val)\n",
    "    return norm_image\n",
    "\n",
    "\n",
    "def cls_filter(image, deg_func, reg):\n",
    "    #Image Ft\n",
    "    G = fft2(image)\n",
    "\n",
    "    #Zero pad degradation function\n",
    "    a_deg = int(image.shape[0]//2 - deg_func.shape[0]//2)\n",
    "    deg_paddded = np.pad(deg_func, (a_deg,a_deg-1), 'constant', constant_values=(0))\n",
    "\n",
    "    #Degradation function Ft\n",
    "    H = fft2(deg_paddded)\n",
    "    H_star = np.conjugate(H)\n",
    "\n",
    "    #Zero pad and Ft laplacian\n",
    "    laplacian = np.array(  [[0, -1, 0],\\\n",
    "                            [-1, 4, -1],\\\n",
    "                            [0, -1, 0]])\n",
    "    a_lap = int(image.shape[0]//2 - laplacian.shape[0]//2)\n",
    "    lap_padded = np.pad(laplacian, (a_lap,a_lap-1), 'constant', constant_values=(0))\n",
    "    P = fft2(lap_padded)\n",
    "\n",
    "    return ifft2((H_star/(np.power(H, 2) + reg*np.power(P, 2)))*G).real"
   ]
  },
  {
   "cell_type": "code",
   "execution_count": null,
   "metadata": {},
   "outputs": [],
   "source": [
    "if __name__ == \"__main__\":\n",
    "    filename = input().rstrip()\n",
    "    k = int(input().rstrip())\n",
    "    sigma = float(input().rstrip())\n",
    "    gamma = float(input().rstrip())\n",
    "\n",
    "    orig_image = imageio.imread(filename).astype(\"float64\")\n",
    "    maxg = orig_image.max()\n",
    "\n",
    "    blur_filter = gaussian_filter(k, sigma)\n",
    "\n",
    "    denoised_image = denoiser(orig_image, blur_filter)\n",
    "    maxd = denoised_image.max()\n",
    "    denoised_image = normalizer(denoised_image, maxg).astype(\"uint8\")\n",
    "\n",
    "    restored_img = cls_filter(denoised_image, blur_filter, gamma)\n",
    "    restored_img = normalizer(restored_img, maxd)\n",
    "    stddev = np.std(restored_img)\n",
    "    print(\"%.1f\" % stddev)"
   ]
  },
  {
   "cell_type": "code",
   "execution_count": null,
   "metadata": {},
   "outputs": [],
   "source": []
  }
 ],
 "metadata": {
  "kernelspec": {
   "display_name": "Python 3",
   "language": "python",
   "name": "python3"
  },
  "language_info": {
   "codemirror_mode": {
    "name": "ipython",
    "version": 3
   },
   "file_extension": ".py",
   "mimetype": "text/x-python",
   "name": "python",
   "nbconvert_exporter": "python",
   "pygments_lexer": "ipython3",
   "version": "3.7.4"
  }
 },
 "nbformat": 4,
 "nbformat_minor": 4
}
